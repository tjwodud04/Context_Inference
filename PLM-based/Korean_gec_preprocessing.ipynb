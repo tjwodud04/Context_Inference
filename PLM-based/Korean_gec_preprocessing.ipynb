{
 "cells": [
  {
   "cell_type": "code",
   "execution_count": 9,
   "metadata": {},
   "outputs": [
    {
     "name": "stderr",
     "output_type": "stream",
     "text": [
      "You passed along `num_labels=3` with an incompatible id to label map: {'0': 'NEGATIVE', '1': 'POSITIVE'}. The number of labels wil be overwritten to 2.\n"
     ]
    },
    {
     "data": {
      "text/plain": [
       "'한국어는 어렵다.'"
      ]
     },
     "execution_count": 9,
     "metadata": {},
     "output_type": "execute_result"
    }
   ],
   "source": [
    "import torch\n",
    "from transformers import PreTrainedTokenizerFast, BartForConditionalGeneration\n",
    "tokenizer = PreTrainedTokenizerFast.from_pretrained('Soyoung97/gec_kr')\n",
    "model = BartForConditionalGeneration.from_pretrained('Soyoung97/gec_kr',device_map=\"auto\")\n",
    "text = '한국어는어렵다.'\n",
    "raw_input_ids = tokenizer.encode(text)\n",
    "input_ids = [tokenizer.bos_token_id] + raw_input_ids + [tokenizer.eos_token_id]\n",
    "corrected_ids = model.generate(torch.tensor([input_ids]),\n",
    "                                max_length=128,\n",
    "                                eos_token_id=1, num_beams=4,\n",
    "                                early_stopping=True, repetition_penalty=2.0)\n",
    "output_text = tokenizer.decode(corrected_ids.squeeze().tolist(), skip_special_tokens=True)\n",
    "output_text"
   ]
  },
  {
   "cell_type": "code",
   "execution_count": 3,
   "metadata": {},
   "outputs": [],
   "source": [
    "\n",
    "import pandas as pd\n",
    "from transformers import AutoTokenizer, AutoModelForMultipleChoice, TrainingArguments, Trainer\n",
    "from datasets import Dataset\n",
    "import re\n",
    "import torch\n",
    "import json\n",
    "from sklearn.metrics import accuracy_score, f1_score\n",
    "import numpy as np\n",
    "\n",
    "# 데이터 로딩 함수\n",
    "def load_data(file_path):\n",
    "   return pd.read_json(file_path, encoding='utf-8-sig')\n",
    "\n",
    "# 데이터 로딩\n",
    "train = load_data('resource/data/대화맥락추론_train.json')\n",
    "dev = load_data('resource/data/대화맥락추론_dev.json')\n",
    "test = load_data('resource/data/대화맥락추론_test.json')"
   ]
  },
  {
   "cell_type": "code",
   "execution_count": 5,
   "metadata": {},
   "outputs": [],
   "source": [
    "def make_chat(inp):\n",
    "        chat = [\"[Conversation]\"]\n",
    "        for cvt in inp['conversation']:\n",
    "            speaker = cvt['speaker']\n",
    "            utterance = cvt['utterance']\n",
    "            chat.append(f\"화자{speaker}: {utterance}\")\n",
    "        chat = \"\\n\".join(chat)\n",
    "\n",
    "        question = f\"[Question]\\n위 대화의 {inp['category']}\"\n",
    "        if (ord(inp['category'][-1]) - ord(\"가\")) % 28 > 0:\n",
    "            question += \"으로\"\n",
    "        else:\n",
    "            question = \"로\"\n",
    "        question += \" 올바른 지문은?\"\n",
    "                \n",
    "        chat = chat + \"\\n\\n\" + question + \"\\n\\n[Option]\\n\"\n",
    "        chat += f\"A. {inp['inference_1']}\\n\"\n",
    "        chat += f\"B. {inp['inference_2']}\\n\"\n",
    "        chat += f\"C. {inp['inference_3']}\"\n",
    "\n",
    "        return chat"
   ]
  },
  {
   "cell_type": "code",
   "execution_count": 6,
   "metadata": {},
   "outputs": [],
   "source": [
    "\n",
    "dev_preprocess = [make_chat(inp) for inp in dev['input']]\n",
    "train_preprocess = [make_chat(inp) for inp in train['input']]\n",
    "test_preprocess = [make_chat(inp) for inp in test['input']]"
   ]
  },
  {
   "cell_type": "code",
   "execution_count": 24,
   "metadata": {},
   "outputs": [],
   "source": [
    "\n",
    "def grammatical_error_correction(text):\n",
    "\n",
    "    raw_input_ids = tokenizer.encode(text)\n",
    "\n",
    "    if len(raw_input_ids) < 510:\n",
    "        input_ids = [tokenizer.bos_token_id] + raw_input_ids + [tokenizer.eos_token_id]\n",
    "        corrected_ids = model.generate(torch.tensor([input_ids]),\n",
    "                                        max_length=512,\n",
    "                                        eos_token_id=1, num_beams=4,\n",
    "                                        early_stopping=True, repetition_penalty=2.0)\n",
    "        output_text = tokenizer.decode(corrected_ids.squeeze().tolist(), skip_special_tokens=True)\n",
    "\n",
    "    # 길이가 충분하지 않은 경우 전처리 진행 x --> 데이터 손실 방지 차원   \n",
    "    else: \n",
    "        output_text = text\n",
    "    \n",
    "\n",
    "    return output_text"
   ]
  },
  {
   "cell_type": "code",
   "execution_count": null,
   "metadata": {},
   "outputs": [],
   "source": [
    "dev_gec = [] \n",
    "\n",
    "\n",
    "for i in range(len(dev_preprocess)):\n",
    "    if i % 10 == 0: \n",
    "        print(i)\n",
    "    dev_gec.append(grammatical_error_correction(dev_preprocess[i]))\n"
   ]
  },
  {
   "cell_type": "code",
   "execution_count": 31,
   "metadata": {},
   "outputs": [
    {
     "data": {
      "text/plain": [
       "'[Conversation]\\n화자1: 쇼핑 자주 하시나요?\\n화자2: 자주하는 편은 아니구\\n화자2: 필요할 때만 해요\\n화자1: 최근엔 뭐 사셨어요?\\n화자2: 모기 물린데에 붙일 밴드 샀어요 마스크랑\\n화자1: 모기 물린데 붙이는 밴드가 따로 있나요?\\n화자2: 따로 있는건 아니구\\n화자2: 긁지 못하게 막을 용도로 샀어요\\n화자1: 아~ 어디꺼 사셨나요?\\n화자2: 데일밴드요ㅋㅋ 가장 기본적인게 좋죠\\n화자1: 아!! 모기 물린데 데일밴드 붙일 생각을 저는 왜 못했을까요??\\n화자2: ㅋㅋ 저도 이번에 심하게 물리고 나서 생각했어요\\n화자1: 긁다 피나잖아요~ 저도 밴드 사야겠어요 ㅎ\\n화자2: ㅎㅎ 좋아요\\n화자1: 전 오늘 택배 박스만 4개 받았어요 ㅋㅋ\\n\\n[Question]\\n위 대화의 후행사건으로 올바른 지문은?\\n\\n[Option]\\nA. 화자1도 모기에 심하게 물렸으므로 밴드를 구매할 것이다.\\nB. 화자1도 모기에 물렸을 때를 대비해 밴드를 구매할 것이다.\\nC. 화자1도 진드기에 물렸을 때를 대비해 밴드를 구매할 것이다.'"
      ]
     },
     "execution_count": 31,
     "metadata": {},
     "output_type": "execute_result"
    }
   ],
   "source": [
    "dev_preprocess[70]"
   ]
  },
  {
   "cell_type": "code",
   "execution_count": 32,
   "metadata": {},
   "outputs": [
    {
     "data": {
      "text/plain": [
       "'[Conversation]\\n화자1: 쇼핑 자주 하시나요?\\n화자2: 자주하는 편은 아니구\\n 화자2: 필요할 때만 사셨어요?\\n화자2: 모기 물린데 데일밴드를 샀어요'"
      ]
     },
     "execution_count": 32,
     "metadata": {},
     "output_type": "execute_result"
    }
   ],
   "source": [
    "dev_gec[70]"
   ]
  },
  {
   "cell_type": "code",
   "execution_count": 19,
   "metadata": {},
   "outputs": [],
   "source": [
    "dev_gec = [grammatical_error_correction(inp) for inp in dev_preprocess]\n",
    "\n",
    "\n"
   ]
  },
  {
   "cell_type": "code",
   "execution_count": 20,
   "metadata": {},
   "outputs": [],
   "source": [
    "\n",
    "train_gec = [grammatical_error_correction(inp) for inp in train_preprocess]"
   ]
  },
  {
   "cell_type": "code",
   "execution_count": 21,
   "metadata": {},
   "outputs": [
    {
     "data": {
      "text/plain": [
       "[('한국어는 어렵다.', 1),\n",
       " ('한국어는 어렵다.', 1),\n",
       " ('한국어는 어렵다.', 1),\n",
       " ('한국어는 어렵다.', 1),\n",
       " ('한국어는 어렵다.', 1),\n",
       " ('한국어는 어렵다.', 1),\n",
       " ('한국어는 어렵다.', 1),\n",
       " ('한국어는 어렵다.', 1),\n",
       " ('한국어는 어렵다.', 1),\n",
       " ('한국어는 어렵다.', 1),\n",
       " ('한국어는 어렵다.', 1),\n",
       " ('한국어는 어렵다.', 1),\n",
       " ('한국어는 어렵다.', 1),\n",
       " ('한국어는 어렵다.', 1),\n",
       " ('한국어는 어렵다.', 1),\n",
       " ('한국어는 어렵다.', 1),\n",
       " ('한국어는 어렵다.', 1),\n",
       " ('한국어는 어렵다.', 1),\n",
       " ('한국어는 어렵다.', 1),\n",
       " ('한국어는 어렵다.', 1),\n",
       " ('한국어는 어렵다.', 1),\n",
       " ('한국어는 어렵다.', 1),\n",
       " ('한국어는 어렵다.', 1),\n",
       " ('한국어는 어렵다.', 1),\n",
       " ('한국어는 어렵다.', 1),\n",
       " ('한국어는 어렵다.', 1),\n",
       " ('한국어는 어렵다.', 1),\n",
       " ('한국어는 어렵다.', 1),\n",
       " ('한국어는 어렵다.', 1),\n",
       " ('한국어는 어렵다.', 1),\n",
       " ('한국어는 어렵다.', 1),\n",
       " ('한국어는 어렵다.', 1),\n",
       " ('한국어는 어렵다.', 1),\n",
       " ('한국어는 어렵다.', 1),\n",
       " ('한국어는 어렵다.', 1),\n",
       " ('한국어는 어렵다.', 1),\n",
       " ('한국어는 어렵다.', 1),\n",
       " ('한국어는 어렵다.', 1),\n",
       " ('한국어는 어렵다.', 1),\n",
       " ('한국어는 어렵다.', 1),\n",
       " ('한국어는 어렵다.', 1),\n",
       " ('한국어는 어렵다.', 1),\n",
       " ('한국어는 어렵다.', 1),\n",
       " ('한국어는 어렵다.', 1),\n",
       " ('한국어는 어렵다.', 1),\n",
       " ('한국어는 어렵다.', 1),\n",
       " ('한국어는 어렵다.', 1),\n",
       " ('한국어는 어렵다.', 1),\n",
       " ('한국어는 어렵다.', 1),\n",
       " ('한국어는 어렵다.', 1),\n",
       " ('한국어는 어렵다.', 1),\n",
       " ('한국어는 어렵다.', 1),\n",
       " ('한국어는 어렵다.', 1),\n",
       " ('한국어는 어렵다.', 1),\n",
       " ('한국어는 어렵다.', 1),\n",
       " ('한국어는 어렵다.', 1),\n",
       " ('한국어는 어렵다.', 1),\n",
       " ('한국어는 어렵다.', 1),\n",
       " ('한국어는 어렵다.', 1),\n",
       " ('한국어는 어렵다.', 1),\n",
       " ('한국어는 어렵다.', 1),\n",
       " ('한국어는 어렵다.', 1),\n",
       " ('한국어는 어렵다.', 1),\n",
       " ('한국어는 어렵다.', 1),\n",
       " ('한국어는 어렵다.', 1),\n",
       " ('한국어는 어렵다.', 1),\n",
       " ('한국어는 어렵다.', 1),\n",
       " ('한국어는 어렵다.', 1),\n",
       " ('한국어는 어렵다.', 1),\n",
       " ('한국어는 어렵다.', 1),\n",
       " ('한국어는 어렵다.', 1),\n",
       " ('한국어는 어렵다.', 1),\n",
       " ('한국어는 어렵다.', 1),\n",
       " ('한국어는 어렵다.', 1),\n",
       " ('한국어는 어렵다.', 1),\n",
       " ('한국어는 어렵다.', 1),\n",
       " ('한국어는 어렵다.', 1),\n",
       " ('한국어는 어렵다.', 1),\n",
       " ('한국어는 어렵다.', 1),\n",
       " ('한국어는 어렵다.', 1),\n",
       " ('한국어는 어렵다.', 1),\n",
       " ('한국어는 어렵다.', 1),\n",
       " ('한국어는 어렵다.', 1),\n",
       " ('한국어는 어렵다.', 1),\n",
       " ('한국어는 어렵다.', 1),\n",
       " ('한국어는 어렵다.', 1),\n",
       " ('한국어는 어렵다.', 1),\n",
       " ('한국어는 어렵다.', 1),\n",
       " ('한국어는 어렵다.', 1),\n",
       " ('한국어는 어렵다.', 1),\n",
       " ('한국어는 어렵다.', 1),\n",
       " ('한국어는 어렵다.', 1),\n",
       " ('한국어는 어렵다.', 1),\n",
       " ('한국어는 어렵다.', 1),\n",
       " ('한국어는 어렵다.', 1),\n",
       " ('한국어는 어렵다.', 1),\n",
       " ('한국어는 어렵다.', 1),\n",
       " ('한국어는 어렵다.', 1),\n",
       " ('한국어는 어렵다.', 1),\n",
       " ('한국어는 어렵다.', 1),\n",
       " ('한국어는 어렵다.', 1),\n",
       " ('한국어는 어렵다.', 1),\n",
       " ('한국어는 어렵다.', 1),\n",
       " ('한국어는 어렵다.', 1),\n",
       " ('한국어는 어렵다.', 1),\n",
       " ('한국어는 어렵다.', 1),\n",
       " ('한국어는 어렵다.', 1),\n",
       " ('한국어는 어렵다.', 1),\n",
       " ('한국어는 어렵다.', 1),\n",
       " ('한국어는 어렵다.', 1),\n",
       " ('한국어는 어렵다.', 1),\n",
       " ('한국어는 어렵다.', 1),\n",
       " ('한국어는 어렵다.', 1),\n",
       " ('한국어는 어렵다.', 1),\n",
       " ('한국어는 어렵다.', 1),\n",
       " ('한국어는 어렵다.', 1),\n",
       " ('한국어는 어렵다.', 1),\n",
       " ('한국어는 어렵다.', 1),\n",
       " ('한국어는 어렵다.', 1),\n",
       " ('한국어는 어렵다.', 1),\n",
       " ('한국어는 어렵다.', 1),\n",
       " ('한국어는 어렵다.', 1),\n",
       " ('한국어는 어렵다.', 1),\n",
       " ('한국어는 어렵다.', 1),\n",
       " ('한국어는 어렵다.', 1),\n",
       " ('한국어는 어렵다.', 1),\n",
       " ('한국어는 어렵다.', 1),\n",
       " ('한국어는 어렵다.', 1),\n",
       " ('한국어는 어렵다.', 1),\n",
       " ('한국어는 어렵다.', 1),\n",
       " ('한국어는 어렵다.', 1),\n",
       " ('한국어는 어렵다.', 1),\n",
       " ('한국어는 어렵다.', 1),\n",
       " ('한국어는 어렵다.', 1),\n",
       " ('한국어는 어렵다.', 1),\n",
       " ('한국어는 어렵다.', 1),\n",
       " ('한국어는 어렵다.', 1),\n",
       " ('한국어는 어렵다.', 1),\n",
       " ('한국어는 어렵다.', 1),\n",
       " ('한국어는 어렵다.', 1),\n",
       " ('한국어는 어렵다.', 1),\n",
       " ('한국어는 어렵다.', 1),\n",
       " ('한국어는 어렵다.', 1),\n",
       " ('한국어는 어렵다.', 1),\n",
       " ('한국어는 어렵다.', 1),\n",
       " ('한국어는 어렵다.', 1),\n",
       " ('한국어는 어렵다.', 1),\n",
       " ('한국어는 어렵다.', 1),\n",
       " ('한국어는 어렵다.', 1),\n",
       " ('한국어는 어렵다.', 1),\n",
       " ('한국어는 어렵다.', 1)]"
      ]
     },
     "execution_count": 21,
     "metadata": {},
     "output_type": "execute_result"
    }
   ],
   "source": [
    "dev_gec "
   ]
  },
  {
   "cell_type": "code",
   "execution_count": null,
   "metadata": {},
   "outputs": [],
   "source": []
  }
 ],
 "metadata": {
  "kernelspec": {
   "display_name": "Python 3",
   "language": "python",
   "name": "python3"
  },
  "language_info": {
   "codemirror_mode": {
    "name": "ipython",
    "version": 3
   },
   "file_extension": ".py",
   "mimetype": "text/x-python",
   "name": "python",
   "nbconvert_exporter": "python",
   "pygments_lexer": "ipython3",
   "version": "3.9.19"
  }
 },
 "nbformat": 4,
 "nbformat_minor": 2
}
